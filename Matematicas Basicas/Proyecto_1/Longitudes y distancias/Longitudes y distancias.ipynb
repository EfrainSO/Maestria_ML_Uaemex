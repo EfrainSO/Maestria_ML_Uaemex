{
 "cells": [
  {
   "cell_type": "markdown",
   "metadata": {},
   "source": [
    "# Longitudes y distancias\n",
    "\n",
    "## Explicación Matemática\n",
    "\n",
    "### Distancias\n",
    "\n",
    "Las **métricas de distancia** permiten cuantificar la separación entre dos puntos en un espacio. A continuación, se presentan las principales:\n",
    "\n",
    "#### Distancia Euclidiana (L2)\n",
    "\n",
    "La distancia euclidiana mide la longitud de la línea recta entre dos puntos. Para dos puntos \n",
    "$A = (x_1, x_2, \\dots, x_n)$ y \n",
    "$B = (y_1, y_2, \\dots, y_n)$ se define como:\n",
    "\n",
    "$$\n",
    "d_{\\text{Euclid}}(A,B) = \\sqrt{\\sum_{i=1}^{n} (x_i - y_i)^2 }\n",
    "$$\n",
    "\n",
    "Esta métrica corresponde a la norma L2 del vector diferencia $A-B$.\n",
    "\n",
    "#### Distancia de Manhattan (L1)\n",
    "\n",
    "La distancia de Manhattan, también conocida como distancia \"taxicab\", se basa en la suma de las diferencias absolutas de las coordenadas:\n",
    "\n",
    "$$\n",
    "d_{\\text{Manhattan}}(A,B) = \\sum_{i=1}^{n} \\left| x_i - y_i \\right|\n",
    "$$\n",
    "\n",
    "Es útil en entornos en los que el movimiento se restringe a ejes ortogonales.\n",
    "\n",
    "#### Distancia de Minkowski (Lp)\n",
    "\n",
    "La distancia de Minkowski es una generalización de las anteriores a través del parámetro $p$:\n",
    "\n",
    "$$\n",
    "d_{\\text{Minkowski},p}(A,B) = \\left(\\sum_{i=1}^{n} \\left| x_i - y_i \\right|^p \\right)^{\\frac{1}{p}}\n",
    "$$\n",
    "\n",
    "Para $p = 1$ se obtiene la Manhattan y para $p = 2$ la Euclidiana. En el límite cuando $p \\to \\infty$, se obtiene la **distancia de Chebyshev**:\n",
    "\n",
    "$$\n",
    "d_{\\infty}(A,B) = \\max_{i} \\left| x_i - y_i \\right|\n",
    "$$\n",
    "\n",
    "#### Otras Métricas\n",
    "\n",
    "- **Distancia Coseno:**  \n",
    "  Basada en el ángulo entre dos vectores, se define a partir de la similitud coseno:\n",
    "\n",
    "$$\n",
    "\\text{similitud\\_cos}(A,B) = \\frac{A \\cdot B}{\\|A\\|\\;\\|B\\|}, \\quad d_{\\cos}(A,B) = 1 - \\text{similitud\\_cos}(A,B)\n",
    "$$\n",
    "\n",
    "- **Distancia de Hamming:**  \n",
    "  Para secuencias o vectores discretos, cuenta el número de posiciones en que difieren:\n",
    "\n",
    "$$\n",
    "d_{\\text{Hamming}}(s,t) = \\#\\{ i \\,|\\, s_i \\neq t_i \\}\n",
    "$$\n",
    "\n",
    "- **Distancia de Jaccard:**  \n",
    "  Mide la disimilitud entre conjuntos:\n",
    "\n",
    "$$\n",
    "d_{\\text{Jaccard}}(A,B) = 1 - \\frac{|A \\cap B|}{|A \\cup B|}\n",
    "$$\n",
    "\n",
    "- **Distancia de Mahalanobis:**  \n",
    "  Considera la estructura de covarianza de los datos:\n",
    "\n",
    "$$\n",
    "d_{\\text{Mahalanobis}}(x,y) = \\sqrt{(x-y)^T \\Sigma^{-1} (x-y)}\n",
    "$$\n",
    "\n",
    "### Longitudes\n",
    "\n",
    "El concepto de **longitud** en geometría se refiere a la medida de la extensión a lo largo de una dimensión.\n",
    "\n",
    "#### Longitud de un segmento\n",
    "\n",
    "Para un segmento de línea recta, la longitud es la distancia euclidiana entre sus dos extremos:\n",
    "\n",
    "$$\n",
    "L = d_{\\text{Euclid}}(A,B)\n",
    "$$\n",
    "\n",
    "#### Longitud de una curva\n",
    "\n",
    "Para una curva parametrizada \n",
    "$\\gamma : [a, b] \\to \\mathbb{R}^n$, la longitud (o longitud de arco) se define mediante la integral:\n",
    "\n",
    "$$\n",
    "L(\\gamma) = \\int_a^b \\|\\gamma'(t)\\|\\, dt\n",
    "$$\n",
    "\n",
    "donde $\\gamma'(t)$ es la derivada de la función parametrizada y $\\|\\gamma'(t)\\$ su norma.\n",
    "\n",
    "---\n"
   ]
  },
  {
   "cell_type": "markdown",
   "metadata": {},
   "source": [
    "\n",
    "## Aplicaciones en Ciencias de Datos\n",
    "\n",
    "Las métricas de distancia y el cálculo de longitudes tienen un amplio espectro de aplicaciones en ciencia de datos, desde técnicas de clasificación y clustering hasta análisis de trayectorias, procesamiento de imágenes y detección de anomalías. A continuación se detallan diversas aplicaciones junto con ejemplos y fragmentos de código en Python.\n",
    "\n",
    "### 1. Clasificación y Clustering\n",
    "\n",
    "#### Clasificación con k-Nearest Neighbors (k-NN)\n",
    "\n",
    "En el algoritmo **k-NN** se utiliza una métrica de distancia para identificar los vecinos más cercanos a un nuevo punto y asignar la clase predominante. Dependiendo de la naturaleza de los datos, se pueden usar la distancia Euclidiana, Manhattan o incluso la de Minkowski.\n"
   ]
  },
  {
   "cell_type": "code",
   "execution_count": 9,
   "metadata": {},
   "outputs": [
    {
     "name": "stdout",
     "output_type": "stream",
     "text": [
      "Precisión con distancia Euclidiana: 1.0\n",
      "Precisión con distancia Manhattan: 1.0\n"
     ]
    }
   ],
   "source": [
    "\n",
    "from sklearn.neighbors import KNeighborsClassifier\n",
    "from sklearn.datasets import load_iris\n",
    "from sklearn.model_selection import train_test_split\n",
    "\n",
    "# Cargamos el conjunto de datos Iris\n",
    "X, y = load_iris(return_X_y=True)\n",
    "X_train, X_test, y_train, y_test = train_test_split(X, y, test_size=0.3, random_state=42)\n",
    "\n",
    "# Usamos k-NN con la distancia Euclidiana (Minkowski p=2)\n",
    "knn_euclid = KNeighborsClassifier(n_neighbors=5, metric='minkowski', p=2)\n",
    "knn_euclid.fit(X_train, y_train)\n",
    "print(\"Precisión con distancia Euclidiana:\", knn_euclid.score(X_test, y_test))\n",
    "\n",
    "# Usamos k-NN con la distancia Manhattan (Minkowski p=1)\n",
    "knn_manhattan = KNeighborsClassifier(n_neighbors=5, metric='minkowski', p=1)\n",
    "knn_manhattan.fit(X_train, y_train)\n",
    "print(\"Precisión con distancia Manhattan:\", knn_manhattan.score(X_test, y_test))\n"
   ]
  },
  {
   "cell_type": "markdown",
   "metadata": {},
   "source": [
    "\n",
    "#### Clustering con k-Means\n",
    "\n",
    "El algoritmo **k-Means** busca agrupar puntos minimizando la suma de las distancias euclidianas entre cada punto y el centroide de su clúster.\n",
    "\n",
    "*Ejemplo:*\n"
   ]
  },
  {
   "cell_type": "code",
   "execution_count": 10,
   "metadata": {},
   "outputs": [
    {
     "data": {
      "image/png": "[encoded data removed]",
      "text/plain": [
       "<Figure size 640x480 with 1 Axes>"
      ]
     },
     "metadata": {},
     "output_type": "display_data"
    }
   ],
   "source": [
    "\n",
    "from sklearn.cluster import KMeans\n",
    "import matplotlib.pyplot as plt\n",
    "import numpy as np\n",
    "\n",
    "# Supongamos un conjunto de datos bidimensional\n",
    "X = np.random.rand(100, 2)\n",
    "\n",
    "# Aplicamos k-Means para 3 clusters\n",
    "kmeans = KMeans(n_clusters=3, random_state=42)\n",
    "clusters = kmeans.fit_predict(X)\n",
    "\n",
    "plt.scatter(X[:, 0], X[:, 1], c=clusters, cmap='viridis')\n",
    "plt.title(\"Clustering con k-Means (distancia Euclidiana)\")\n",
    "plt.xlabel(\"Característica 1\")\n",
    "plt.ylabel(\"Característica 2\")\n",
    "plt.show()\n"
   ]
  },
  {
   "cell_type": "markdown",
   "metadata": {},
   "source": [
    "\n",
    "### 2. Regresión\n",
    "\n",
    "#### Regresión Lineal (Error Cuadrático)\n",
    "\n",
    "La **regresión lineal** se entrena minimizando la suma de errores al cuadrado, lo cual es equivalente a minimizar la distancia Euclidiana entre los valores predichos y reales.\n",
    "\n",
    "*Ejemplo:*\n"
   ]
  },
  {
   "cell_type": "code",
   "execution_count": 11,
   "metadata": {},
   "outputs": [
    {
     "name": "stdout",
     "output_type": "stream",
     "text": [
      "Error cuadrático medio: 0.47999999999999987\n"
     ]
    }
   ],
   "source": [
    "\n",
    "from sklearn.linear_model import LinearRegression\n",
    "import numpy as np\n",
    "\n",
    "# Datos de ejemplo\n",
    "X = np.array([[1], [2], [3], [4], [5]])\n",
    "y = np.array([2, 4, 5, 4, 5])\n",
    "\n",
    "# Ajustamos un modelo de regresión lineal\n",
    "model = LinearRegression()\n",
    "model.fit(X, y)\n",
    "y_pred = model.predict(X)\n",
    "\n",
    "# Cálculo del error cuadrático medio (MSE)\n",
    "mse = np.mean((y - y_pred) ** 2)\n",
    "print(\"Error cuadrático medio:\", mse)\n"
   ]
  },
  {
   "cell_type": "markdown",
   "metadata": {},
   "source": [
    "\n",
    "\n",
    "#### Regresión LAD y Regularización L1 (Lasso)\n",
    "\n",
    "La **regresión LAD (Least Absolute Deviations)** minimiza la suma de errores absolutos (distancia L1) y es más robusta frente a outliers. De manera similar, la regularización L1 (Lasso) penaliza la suma de los valores absolutos de los coeficientes para obtener modelos más parsimoniosos.\n",
    "\n",
    "*Ejemplo con Lasso:*\n"
   ]
  },
  {
   "cell_type": "code",
   "execution_count": 12,
   "metadata": {},
   "outputs": [
    {
     "name": "stdout",
     "output_type": "stream",
     "text": [
      "Coeficientes del modelo Lasso: [0.55]\n"
     ]
    }
   ],
   "source": [
    "\n",
    "from sklearn.linear_model import Lasso\n",
    "\n",
    "# Ajustamos un modelo Lasso\n",
    "lasso = Lasso(alpha=0.1)\n",
    "lasso.fit(X, y)\n",
    "print(\"Coeficientes del modelo Lasso:\", lasso.coef_)"
   ]
  },
  {
   "cell_type": "markdown",
   "metadata": {},
   "source": [
    "\n",
    "### 3. Análisis de Trayectorias y Series Temporales\n",
    "\n",
    "El cálculo de la **longitud de una curva** es fundamental en el análisis de trayectorias, ya que permite cuantificar la \"distancia recorrida\" a lo largo de una trayectoria.\n",
    "\n",
    "*Ejemplo:* Calcular la longitud de la curva definida por \n",
    "$y = \\sin(x)$ en el intervalo $[0, \\pi]$:\n"
   ]
  },
  {
   "cell_type": "code",
   "execution_count": 13,
   "metadata": {},
   "outputs": [
    {
     "name": "stdout",
     "output_type": "stream",
     "text": [
      "Longitud de la curva y = sin(x) en [0, π]: 3.8202\n"
     ]
    }
   ],
   "source": [
    "import numpy as np\n",
    "from scipy.integrate import quad\n",
    "\n",
    "def integrand(x):\n",
    "    return np.sqrt(1 + np.cos(x)**2)\n",
    "\n",
    "longitud, error = quad(integrand, 0, np.pi)\n",
    "print(f\"Longitud de la curva y = sin(x) en [0, π]: {longitud:.4f}\")\n",
    "\n"
   ]
  },
  {
   "cell_type": "markdown",
   "metadata": {},
   "source": [
    "\n",
    "---\n",
    "\n",
    "## Resumen\n",
    "\n",
    "Las diversas métricas de distancia (Euclidiana, Manhattan, Minkowski, Coseno, Hamming, Jaccard y Mahalanobis) permiten modelar la \"cercanía\" entre puntos, secuencias o conjuntos en espacios de datos de distintas naturalezas. Asimismo, el cálculo de longitudes (ya sea de segmentos rectos o de curvas) es fundamental para analizar trayectorias, contornos y formas.\n",
    "\n",
    "Estas herramientas matemáticas se traducen en aplicaciones prácticas en clasificación, clustering, regresión, análisis de trayectorias, procesamiento de imágenes, análisis geoespacial, sistemas de recomendación y detección de anomalías, entre otros. La implementación de estos métodos en Python, utilizando bibliotecas como **scikit-learn**, **SciPy**, **NumPy** y **OpenCV**, permite adaptar y experimentar con técnicas para mejorar la eficiencia y precisión de los modelos en proyectos de ciencia de datos.\n",
    "\n",
    "---\n"
   ]
  },
  {
   "cell_type": "markdown",
   "metadata": {},
   "source": [
    "---\n",
    "### Referencias\n",
    "\n",
    "1. **Bishop, C. M. (2006).** *Pattern Recognition and Machine Learning.* Springer.  \n",
    "   Referencia clásica para conceptos de aprendizaje, clasificación y métricas en espacios de características.\n",
    "\n",
    "2. **Hastie, T., Tibshirani, R., & Friedman, J. (2009).** *The Elements of Statistical Learning: Data Mining, Inference, and Prediction.* Springer.  \n",
    "   Fuente fundamental sobre técnicas de regresión, clustering y métodos estadísticos en ciencia de datos.\n",
    "\n",
    "3. **Han, J., Kamber, M., & Pei, J. (2011).** *Data Mining: Concepts and Techniques.* Elsevier.  \n",
    "   Texto que abarca métodos y aplicaciones en minería de datos, incluyendo el uso de distintas métricas de distancia.\n",
    "\n",
    "4. **SciPy Documentation.** Recuperado de [https://docs.scipy.org/doc/scipy/reference/](https://docs.scipy.org/doc/scipy/reference/)  \n",
    "   Documentación oficial de SciPy, útil para implementar integrales numéricas y métodos de optimización.\n",
    "\n",
    "5. **NumPy Documentation.** Recuperado de [https://numpy.org/doc/](https://numpy.org/doc/)  \n",
    "   Fuente oficial para operaciones numéricas y manejo de arrays, esencial para cálculos vectoriales.\n",
    "\n",
    "6. **scikit-learn Documentation.** Recuperado de [https://scikit-learn.org/stable/](https://scikit-learn.org/stable/)  \n",
    "   Documentación sobre algoritmos de clasificación, clustering, regresión y validación de modelos.\n",
    "\n",
    "7. **OpenCV Documentation.** Recuperado de [https://docs.opencv.org/](https://docs.opencv.org/)  \n",
    "   Referencia para el procesamiento de imágenes, extracción de contornos y análisis de formas.\n",
    "\n",
    "8. **Wikipedia – Distance (mathematics).** Recuperado de [https://en.wikipedia.org/wiki/Distance_(mathematics)](https://en.wikipedia.org/wiki/Distance_(mathematics))  \n",
    "   Artículo que abarca definiciones y propiedades de diversas métricas de distancia en geometría.\n",
    "\n",
    "---\n"
   ]
  }
 ],
 "metadata": {
  "kernelspec": {
   "display_name": "base",
   "language": "python",
   "name": "python3"
  },
  "language_info": {
   "codemirror_mode": {
    "name": "ipython",
    "version": 3
   },
   "file_extension": ".py",
   "mimetype": "text/x-python",
   "name": "python",
   "nbconvert_exporter": "python",
   "pygments_lexer": "ipython3",
   "version": "3.10.11"
  }
 },
 "nbformat": 4,
 "nbformat_minor": 2
}
