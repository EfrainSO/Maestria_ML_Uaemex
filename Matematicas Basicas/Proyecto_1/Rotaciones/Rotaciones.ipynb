{
  "nbformat": 4,
  "nbformat_minor": 0,
  "metadata": {
    "colab": {
      "provenance": []
    },
    "kernelspec": {
      "name": "python3",
      "display_name": "Python 3"
    },
    "language_info": {
      "name": "python"
    }
  },
  "cells": [
    {
      "cell_type": "markdown",
      "source": [
        "# Rotaciones\n",
        "## Explicacion Matematica\n",
        "\n",
        "Las rotaciones son transformaciones geométricas que mueven  uno o varios puntos en un espacio bidimensional o tridimensional alrededor de un punto central fijo, llamado centro de rotación, sin alterar la forma ni el tamaño del objeto que se está rotando. La cantidad de rotación se define por el ángulo de rotación, que generalmente se mide en grados y en ocasiones en radianes. Y se pueden describir utilizando matrices de rotación.\n",
        "\n",
        "### Rotaciones en 2D\n",
        "En un plano cartesiano bidimensional, una rotación se define por un ángulo $\\theta$ y un centro de rotación.\n",
        "\n",
        "Matriz de Rotación en 2D:\n",
        "\n",
        "La transformación de un punto $(x, y)$ $(x, y)$ a un punto rotado $(x', y')$ $(x', y')$ se realiza mediante la multiplicación por la siguiente matriz de rotación:\n",
        "\n",
        "$$ R(\\theta) = \\begin{bmatrix} \\cos(\\theta) & -\\sin(\\theta) \\\\ \\sin(\\theta) & \\cos(\\theta) \\end{bmatrix} $$$$ R(\\theta) = \\begin{bmatrix} \\cos(\\theta) & -\\sin(\\theta) \\\\ \\sin(\\theta) & \\cos(\\theta) \\end{bmatrix} $$\n",
        "\n",
        "Donde:\n",
        "\n",
        "$\\theta$ es el ángulo de rotación en radianes (positivo para rotaciones en sentido antihorario).\n",
        "$\\cos(\\theta)$ es el coseno del ángulo de rotación.\n",
        "$\\sin(\\theta)$ es el seno del ángulo de rotación.\n",
        "Aplicando la Rotación en 2D:\n",
        "\n",
        "Para obtener las coordenadas del punto rotado $(x', y')$ $(x', y')$, se multiplica la matriz de rotación por las coordenadas del punto original $(x, y)$ $(x, y)$:\n",
        "\n",
        "$$ \\begin{bmatrix} x' \\\\ y' \\end{bmatrix} = \\begin{bmatrix} \\cos(\\theta) & -\\sin(\\theta) \\\\ \\sin(\\theta) & \\cos(\\theta) \\end{bmatrix} \\begin{bmatrix} x \\\\ y \\end{bmatrix} $$$$ \\begin{bmatrix} x' \\\\ y' \\end{bmatrix} = \\begin{bmatrix} \\cos(\\theta) & -\\sin(\\theta) \\\\ \\sin(\\theta) & \\cos(\\theta) \\end{bmatrix} \\begin{bmatrix} x \\\\ y \\end{bmatrix} $$\n",
        "\n",
        "Esto se traduce en las siguientes ecuaciones:\n",
        "\n",
        "$$ x' = x \\cos(\\theta) - y \\sin(\\theta) \\\\ y' = x \\sin(\\theta) + y \\cos(\\theta) $$$$ x' = x \\cos(\\theta) - y \\sin(\\theta) \\\\ y' = x \\sin(\\theta) + y \\cos(\\theta) $$\n",
        "\n",
        "Estas ecuaciones describen cómo las coordenadas del punto original $(x, y)$ $(x, y)$ se transforman en las coordenadas del punto rotado $(x', y')$ $(x', y')$ después de una rotación de ángulo $\\theta$ alrededor del origen.\n",
        "\n",
        "### Rotaciones en 3D\n",
        "Las rotaciones en el espacio tridimensional involucran rotaciones alrededor de tres ejes: x, y, z. Cada rotación se describe mediante una matriz de rotación de 3x3.\n",
        "\n",
        "Matrices de Rotación en 3D:\n",
        "\n",
        "Rotación alrededor del eje x:\n",
        "$$ R_x(\\theta) = \\begin{bmatrix} 1 & 0 & 0 \\\\ 0 & \\cos(\\theta) & -\\sin(\\theta) \\\\ 0 & \\sin(\\theta) & \\cos(\\theta) \\end{bmatrix} $$$$ R_x(\\theta) = \\begin{bmatrix} 1 & 0 & 0 \\\\ 0 & \\cos(\\theta) & -\\sin(\\theta) \\\\ 0 & \\sin(\\theta) & \\cos(\\theta) \\end{bmatrix} $$\n",
        "\n",
        "Rotación alrededor del eje y:\n",
        "$$ R_y(\\theta) = \\begin{bmatrix} \\cos(\\theta) & 0 & \\sin(\\theta) \\\\ 0 & 1 & 0 \\\\ -\\sin(\\theta) & 0 & \\cos(\\theta) \\end{bmatrix} $$$$ R_y(\\theta) = \\begin{bmatrix} \\cos(\\theta) & 0 & \\sin(\\theta) \\\\ 0 & 1 & 0 \\\\ -\\sin(\\theta) & 0 & \\cos(\\theta) \\end{bmatrix} $$\n",
        "\n",
        "Rotación alrededor del eje z:\n",
        "$$ R_z(\\theta) = \\begin{bmatrix} \\cos(\\theta) & -\\sin(\\theta) & 0 \\\\ \\sin(\\theta) & \\cos(\\theta) & 0 \\\\ 0 & 0 & 1 \\end{bmatrix} $$$$ R_z(\\theta) = \\begin{bmatrix} \\cos(\\theta) & -\\sin(\\theta) & 0 \\\\ \\sin(\\theta) & \\cos(\\theta) & 0 \\\\ 0 & 0 & 1 \\end{bmatrix} $$\n",
        "\n",
        "Combinando Rotaciones en 3D:\n",
        "\n",
        "Para realizar rotaciones compuestas en 3D, se multiplican las matrices de rotación correspondientes. Es crucial tener en cuenta que el orden de multiplicación importa, ya que las rotaciones en 3D no son conmutativas. La rotación resultante dependerá del orden en que se apliquen las rotaciones individuales.\n",
        "\n",
        "Ejemplo:\n",
        "\n",
        "Para rotar un punto primero alrededor del eje x por un ángulo  $\\alpha$ y luego alrededor del eje y por un ángulo $\\beta$, se utiliza la siguiente matriz compuesta:\n",
        "\n",
        "$$ R = R_y(\\beta) R_x(\\alpha) $$$$ R = R_y(\\beta) R_x(\\alpha) $$\n",
        "\n",
        "La multiplicación de matrices se realiza de derecha a izquierda, lo que significa que la rotación alrededor del eje x se aplica primero.\n"
      ],
      "metadata": {
        "id": "p7sduLTYad1t"
      }
    },
    {
      "cell_type": "markdown",
      "source": [
        "### Codigo en Python para ejemplo de rotación"
      ],
      "metadata": {
        "id": "cllKSjdBa0PK"
      }
    },
    {
      "cell_type": "code",
      "source": [
        "### Ejemplo de Código en Python para rotar un punto\n",
        "\n",
        "#importar las librerias\n",
        "import numpy as np\n",
        "import matplotlib.pyplot as plt\n",
        "\n",
        "# Definir un punto\n",
        "punto = np.array([1, 2])\n",
        "\n",
        "# Definir el ángulo de rotación en radianes\n",
        "angulo = np.pi / 4  # 45 grados\n",
        "\n",
        "# Matriz de rotación 2D\n",
        "matriz_rotacion = np.array([\n",
        "    [np.cos(angulo), -np.sin(angulo)],\n",
        "    [np.sin(angulo), np.cos(angulo)]\n",
        "])\n",
        "\n",
        "# Aplicar la rotación\n",
        "punto_rotado = np.dot(matriz_rotacion, punto)\n",
        "\n",
        "# Imprimir los resultados\n",
        "print(\"Punto original:\", punto)\n",
        "print(\"Punto rotado:\", punto_rotado)\n",
        "\n",
        "\n",
        "# Visualizar la rotación\n",
        "plt.figure(figsize=(6,6))\n",
        "plt.plot([0, punto[0]], [0, punto[1]], label='Punto original', marker='o', linestyle='-')\n",
        "plt.plot([0, punto_rotado[0]], [0, punto_rotado[1]], label='Punto rotado', marker='o', linestyle='-')\n",
        "\n",
        "plt.xlim([-3, 3])\n",
        "plt.ylim([-3, 3])\n",
        "plt.title('Rotación de un punto en 2D')\n",
        "plt.xlabel('X')\n",
        "plt.ylabel('Y')\n",
        "plt.legend()\n",
        "plt.grid(True)\n",
        "plt.show()"
      ],
      "metadata": {
        "id": "RjYBxTWkaxny"
      },
      "execution_count": null,
      "outputs": []
    },
    {
      "cell_type": "markdown",
      "source": [
        "## Aplicaciones en Ciencias de datos\n",
        "\n",
        "Las rotaciones tienen gran cantidad de aplicaciones en el campo de la ciencia de datos. Algunas de las que hemos usado es en la creación de objetos tridimensionales y su rotación.\n",
        "Por ejemplo los objetos 3D necesitan ser rotados para ser visualizados desde diferentes ángulos.\n",
        "Mediante el uso de las rotaciones se genera la base para la manipulación y visualización de objetos 3D.\n",
        "Esto funciona a partir de las matrices de rotación que se aplican para transformar las coordenadas de los vértices de los objetos 3D, permitiendo la rotación alrededor de diferentes ejes."
      ],
      "metadata": {
        "id": "WSZQU0pfbPEr"
      }
    },
    {
      "cell_type": "markdown",
      "source": [
        "### Ejemplo en Python para rotar un Cubo en 3D con un ángulo de rotación 45°"
      ],
      "metadata": {
        "id": "kduyzf30bZFC"
      }
    },
    {
      "cell_type": "code",
      "source": [
        "import numpy as np\n",
        "import matplotlib.pyplot as plt\n",
        "from mpl_toolkits.mplot3d import Axes3D\n",
        "\n",
        "# Definir un cubo simple\n",
        "puntos_cubo = np.array([\n",
        "    [0, 0, 0],\n",
        "    [1, 0, 0],\n",
        "    [1, 1, 0],\n",
        "    [0, 1, 0],\n",
        "    [0, 0, 1],\n",
        "    [1, 0, 1],\n",
        "    [1, 1, 1],\n",
        "    [0, 1, 1]\n",
        "])\n",
        "\n",
        "# Función para dibujar el cubo\n",
        "def dibujar_cubo(puntos, ax):\n",
        "    ax.scatter(puntos[:, 0], puntos[:, 1], puntos[:, 2], c='b', marker='o')\n",
        "    # Conectar los puntos para formar las aristas del cubo\n",
        "    edges = [\n",
        "        [0, 1], [1, 2], [2, 3], [3, 0],\n",
        "        [4, 5], [5, 6], [6, 7], [7, 4],\n",
        "        [0, 4], [1, 5], [2, 6], [3, 7]\n",
        "    ]\n",
        "    for edge in edges:\n",
        "        ax.plot(puntos[edge, 0], puntos[edge, 1], puntos[edge, 2], c='r')\n",
        "\n",
        "# Crear la figura 3D\n",
        "fig = plt.figure(figsize=(8, 8))\n",
        "ax = fig.add_subplot(111, projection='3d')\n",
        "\n",
        "# Dibujar el cubo original\n",
        "dibujar_cubo(puntos_cubo, ax)\n",
        "ax.set_title(\"Cubo Original\")\n",
        "\n",
        "# Aplicar rotación alrededor del eje y (45 grados)\n",
        "angulo = np.pi / 4  # 45 grados en radianes\n",
        "matriz_rotacion_y = np.array([\n",
        "    [np.cos(angulo), 0, np.sin(angulo)],\n",
        "    [0, 1, 0],\n",
        "    [-np.sin(angulo), 0, np.cos(angulo)]\n",
        "])\n",
        "puntos_rotados = np.dot(puntos_cubo, matriz_rotacion_y.T)\n",
        "\n",
        "# Crear una nueva figura para el cubo rotado\n",
        "fig = plt.figure(figsize=(8, 8))\n",
        "ax = fig.add_subplot(111, projection='3d')\n",
        "\n",
        "# Dibujar el cubo rotado\n",
        "dibujar_cubo(puntos_rotados, ax)\n",
        "ax.set_title(\"Cubo Rotado (alrededor del eje y)\")\n",
        "\n",
        "plt.show()\n"
      ],
      "metadata": {
        "id": "aRMFsEUIbWAu"
      },
      "execution_count": null,
      "outputs": []
    },
    {
      "cell_type": "markdown",
      "source": [],
      "metadata": {
        "id": "dOiE20fSYEv-"
      }
    }
  ]
}